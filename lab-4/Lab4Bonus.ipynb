{
 "cells": [
  {
   "cell_type": "markdown",
   "metadata": {},
   "source": [
    "# Lab 4 Bonus"
   ]
  },
  {
   "cell_type": "code",
   "execution_count": 20,
   "metadata": {},
   "outputs": [],
   "source": [
    "import torch\n",
    "import torch.nn as nn\n",
    "import torch.nn.functional as F\n",
    "import numpy as np\n",
    "import pandas as pd\n",
    "from sklearn.model_selection import train_test_split\n",
    "\n",
    "# data paths\n",
    "data_X_path = \"cda_lab4_data/X.npy\"\n",
    "data_y_path = \"cda_lab4_data/y.npy\"\n",
    "feature_names_path = \"cda_lab4_data/feature_names.csv\""
   ]
  },
  {
   "cell_type": "code",
   "execution_count": 2,
   "metadata": {},
   "outputs": [
    {
     "name": "stdout",
     "output_type": "stream",
     "text": [
      "X dimensions:  (30396, 22761)\n",
      "y dimensions:  (30396,)\n",
      "Feature names:       0                               1\n",
      "0  NaN                    feature_name\n",
      "1  0.0        kernel32.dll:SetFileTime\n",
      "2  1.0    kernel32.dll:CompareFileTime\n",
      "3  2.0        kernel32.dll:SearchPathW\n",
      "4  3.0  kernel32.dll:GetShortPathNameW\n"
     ]
    }
   ],
   "source": [
    "# load dataset\n",
    "X = np.load(data_X_path)\n",
    "print(\"X dimensions: \", X.shape)\n",
    "y = np.load(data_y_path)\n",
    "print(\"y dimensions: \", y.shape)\n",
    "\n",
    "# load feature names\n",
    "feature_names = pd.read_csv(feature_names_path, header=None)\n",
    "print(\"Feature names: \", feature_names.head())"
   ]
  },
  {
   "cell_type": "code",
   "execution_count": 21,
   "metadata": {},
   "outputs": [
    {
     "name": "stdout",
     "output_type": "stream",
     "text": [
      "Train size:  24316\n",
      "Train malwares:  12168\n",
      "\n",
      "Test size:  6080\n",
      "Test malwares:  3042\n"
     ]
    }
   ],
   "source": [
    "# split data into train and test set\n",
    "X_train, X_test, y_train, y_test = train_test_split(X, y, test_size=0.2, random_state=42, stratify=y)\n",
    "\n",
    "print(\"Train size: \", len(y_train))\n",
    "print(\"Train malwares: \", np.sum(y_train == 1))\n",
    "print()\n",
    "print(\"Test size: \", len(y_test))\n",
    "print(\"Test malwares: \", np.sum(y_test == 1))"
   ]
  },
  {
   "cell_type": "code",
   "execution_count": 3,
   "metadata": {},
   "outputs": [],
   "source": [
    "# Define a simple neural network model\n",
    "class SimpleModel(nn.Module):\n",
    "    def __init__(self, input_size, num_classes):\n",
    "        super(SimpleModel, self).__init__()\n",
    "        self.fc = nn.Linear(input_size, num_classes)\n",
    "    \n",
    "    def forward(self, x):\n",
    "        return self.fc(x)"
   ]
  },
  {
   "cell_type": "code",
   "execution_count": 4,
   "metadata": {},
   "outputs": [],
   "source": [
    "# Cross entropy loss function\n",
    "loss_fn = nn.CrossEntropyLoss()"
   ]
  },
  {
   "cell_type": "code",
   "execution_count": 5,
   "metadata": {},
   "outputs": [],
   "source": [
    "def grams_topk_variant(b, model, loss_fn, target_labels, k_init=8, device='cpu'):\n",
    "    # Convert numpy arrays to torch tensors\n",
    "    b = torch.tensor(b, dtype=torch.float32, requires_grad=True).to(device)\n",
    "    orig_x = b.clone().detach()\n",
    "    best_x = b.clone().detach()\n",
    "    target_labels = torch.tensor(target_labels, dtype=torch.long).to(device)\n",
    "    k = k_init\n",
    "    \n",
    "    def compute_loss(x):\n",
    "        model_output = model(x)\n",
    "        return loss_fn(model_output, target_labels)\n",
    "    \n",
    "    while k > 0.5:\n",
    "        print(\"k: \", k)\n",
    "        # Compute loss\n",
    "        loss = compute_loss(b)\n",
    "        \n",
    "        # Zero the gradients\n",
    "        model.zero_grad()\n",
    "        \n",
    "        # Compute gradients\n",
    "        loss.backward()\n",
    "        grad = b.grad.data\n",
    "        \n",
    "        # Compute the sign of the gradient\n",
    "        sign = grad.sign()\n",
    "        \n",
    "        # Adjust the gradient\n",
    "        adjusted_grad = torch.abs(grad - orig_x * grad)\n",
    "        \n",
    "        # Get the top-k elements\n",
    "        topk_indices = torch.topk(adjusted_grad, int(k)).indices\n",
    "        \n",
    "        # Update x with top-k elements and their signs\n",
    "        x_new = b.clone().detach()\n",
    "        x_new[topk_indices] = x_new[topk_indices] + sign[topk_indices]\n",
    "        \n",
    "        # Compute new loss\n",
    "        new_loss = compute_loss(x_new)\n",
    "        \n",
    "        # Compute loss for the best observed x\n",
    "        best_loss = compute_loss(best_x)\n",
    "        \n",
    "        # Update best_x if new loss is better\n",
    "        if new_loss.item() < best_loss.item():\n",
    "            best_x[topk_indices] = x_new[topk_indices]\n",
    "            b = x_new\n",
    "            k *= 2\n",
    "        else:\n",
    "            k /= 2\n",
    "    \n",
    "    return best_x.cpu().detach().numpy()"
   ]
  },
  {
   "cell_type": "code",
   "execution_count": 45,
   "metadata": {},
   "outputs": [],
   "source": [
    "# Example usage\n",
    "input_size = X.shape[1]  # Number of features\n",
    "num_classes = 2  # Number of classes\n",
    "model = SimpleModel(input_size, num_classes).to('cpu')"
   ]
  },
  {
   "cell_type": "code",
   "execution_count": 46,
   "metadata": {},
   "outputs": [],
   "source": [
    "# train the model\n",
    "def train_model(model, X, y, loss_fn, device='cpu', epochs=100, lr=0.01):\n",
    "    # Convert numpy arrays to torch tensors\n",
    "    X = torch.tensor(X, dtype=torch.float32).to(device)\n",
    "    y = torch.tensor(y, dtype=torch.long).to(device)\n",
    "    \n",
    "    # Define optimizer\n",
    "    optimizer = torch.optim.Adam(model.parameters(), lr=lr)\n",
    "    \n",
    "    model.train()\n",
    "\n",
    "    # Train the model\n",
    "    for epoch in range(epochs):\n",
    "        # Forward pass\n",
    "        model_output = model(X)\n",
    "        \n",
    "        # Compute loss\n",
    "        loss = loss_fn(model_output, y)\n",
    "        \n",
    "        # Zero the gradients\n",
    "        optimizer.zero_grad()\n",
    "        \n",
    "        # Backward pass\n",
    "        loss.backward()\n",
    "        \n",
    "        # Update the weights\n",
    "        optimizer.step()\n",
    "        \n",
    "        if (epoch + 1) % 10 == 0:\n",
    "            print(\"Epoch [{}/{}], Loss: {:.4f}\".format(epoch + 1, epochs, loss.item()))\n",
    "            test_accuracy = evaluate_model(model, X, y)\n",
    "            print(\"Accuracy: {:.2f}%\".format(test_accuracy * 100))"
   ]
  },
  {
   "cell_type": "code",
   "execution_count": 47,
   "metadata": {},
   "outputs": [],
   "source": [
    "# Evaluate the model\n",
    "def evaluate_model(model, X, y, device='cpu'):\n",
    "    # Convert numpy arrays to torch tensors\n",
    "    X = torch.tensor(X, dtype=torch.float32).to(device)\n",
    "    y = torch.tensor(y, dtype=torch.long).to(device)\n",
    "    \n",
    "    # Forward pass\n",
    "    model_output = model(X)\n",
    "    \n",
    "    # Get predictions\n",
    "    _, predicted = torch.max(model_output, 1)\n",
    "    \n",
    "    # Compute accuracy\n",
    "    correct = (predicted == y).sum().item()\n",
    "    total = y.size(0)\n",
    "    accuracy = correct / total\n",
    "    return accuracy"
   ]
  },
  {
   "cell_type": "code",
   "execution_count": 48,
   "metadata": {},
   "outputs": [
    {
     "name": "stdout",
     "output_type": "stream",
     "text": [
      "Epoch [10/40], Loss: 0.2897\n"
     ]
    },
    {
     "name": "stderr",
     "output_type": "stream",
     "text": [
      "/var/folders/gn/8cmn0qdj1mx7g0mxnt5q722h0000gp/T/ipykernel_72177/1752960627.py:4: UserWarning: To copy construct from a tensor, it is recommended to use sourceTensor.clone().detach() or sourceTensor.clone().detach().requires_grad_(True), rather than torch.tensor(sourceTensor).\n",
      "  X = torch.tensor(X, dtype=torch.float32).to(device)\n",
      "/var/folders/gn/8cmn0qdj1mx7g0mxnt5q722h0000gp/T/ipykernel_72177/1752960627.py:5: UserWarning: To copy construct from a tensor, it is recommended to use sourceTensor.clone().detach() or sourceTensor.clone().detach().requires_grad_(True), rather than torch.tensor(sourceTensor).\n",
      "  y = torch.tensor(y, dtype=torch.long).to(device)\n"
     ]
    },
    {
     "name": "stdout",
     "output_type": "stream",
     "text": [
      "Accuracy: 89.28%\n",
      "Epoch [20/40], Loss: 0.2324\n",
      "Accuracy: 90.73%\n",
      "Epoch [30/40], Loss: 0.2102\n",
      "Accuracy: 90.73%\n",
      "Epoch [40/40], Loss: 0.1957\n",
      "Accuracy: 91.05%\n"
     ]
    }
   ],
   "source": [
    "train_model(model, X_train, y_train, loss_fn, epochs=40)"
   ]
  },
  {
   "cell_type": "code",
   "execution_count": 49,
   "metadata": {},
   "outputs": [
    {
     "data": {
      "text/plain": [
       "0.9108552631578948"
      ]
     },
     "execution_count": 49,
     "metadata": {},
     "output_type": "execute_result"
    }
   ],
   "source": [
    "evaluate_model(model, X_test, y_test)"
   ]
  },
  {
   "cell_type": "code",
   "execution_count": 50,
   "metadata": {},
   "outputs": [
    {
     "data": {
      "text/plain": [
       "0.9105115973021879"
      ]
     },
     "execution_count": 50,
     "metadata": {},
     "output_type": "execute_result"
    }
   ],
   "source": [
    "evaluate_model(model, X_train, y_train)"
   ]
  },
  {
   "cell_type": "code",
   "execution_count": 51,
   "metadata": {},
   "outputs": [
    {
     "name": "stdout",
     "output_type": "stream",
     "text": [
      "b: (22761,)\n",
      "k:  8\n",
      "k:  4.0\n",
      "k:  2.0\n",
      "k:  1.0\n",
      "original x: (22761,)\n",
      "Best x: (22761,)\n"
     ]
    }
   ],
   "source": [
    "b = X_train[y_train == 1][0]\n",
    "print('b:', b.shape)\n",
    "target_labels = y_train[y_train == 1][0]\n",
    "\n",
    "best_x = grams_topk_variant(b, model, loss_fn, target_labels)\n",
    "print('original x:', b.shape)\n",
    "print(\"Best x:\", best_x.shape)"
   ]
  },
  {
   "cell_type": "code",
   "execution_count": 54,
   "metadata": {},
   "outputs": [
    {
     "name": "stdout",
     "output_type": "stream",
     "text": [
      "k:  8\n",
      "k:  4.0\n",
      "k:  2.0\n",
      "k:  1.0\n",
      "k:  8\n",
      "k:  4.0\n",
      "k:  2.0\n",
      "k:  1.0\n",
      "k:  8\n",
      "k:  4.0\n",
      "k:  2.0\n",
      "k:  1.0\n",
      "k:  8\n",
      "k:  4.0\n",
      "k:  2.0\n",
      "k:  1.0\n",
      "k:  8\n",
      "k:  4.0\n",
      "k:  2.0\n",
      "k:  1.0\n",
      "k:  8\n",
      "k:  4.0\n",
      "k:  2.0\n",
      "k:  1.0\n",
      "k:  8\n",
      "k:  4.0\n",
      "k:  2.0\n",
      "k:  1.0\n",
      "k:  8\n",
      "k:  4.0\n",
      "k:  2.0\n",
      "k:  1.0\n",
      "k:  8\n",
      "k:  4.0\n",
      "k:  2.0\n",
      "k:  1.0\n",
      "k:  8\n",
      "k:  4.0\n",
      "k:  2.0\n",
      "k:  1.0\n"
     ]
    }
   ],
   "source": [
    "best_xs = []\n",
    "for i in range(10):\n",
    "    b = X_train[y_train == 1][i]\n",
    "    target_labels = y_train[y_train == 1][i]\n",
    "    best_x = grams_topk_variant(b, model, loss_fn, target_labels)\n",
    "    best_xs.append(best_x)"
   ]
  },
  {
   "cell_type": "code",
   "execution_count": 56,
   "metadata": {},
   "outputs": [
    {
     "data": {
      "text/plain": [
       "1.0"
      ]
     },
     "execution_count": 56,
     "metadata": {},
     "output_type": "execute_result"
    }
   ],
   "source": [
    "target_labels = y_train[y_train == 1][:10]\n",
    "evaluate_model(model, best_xs, target_labels)"
   ]
  },
  {
   "cell_type": "code",
   "execution_count": 57,
   "metadata": {},
   "outputs": [
    {
     "data": {
      "text/plain": [
       "1.0"
      ]
     },
     "execution_count": 57,
     "metadata": {},
     "output_type": "execute_result"
    }
   ],
   "source": [
    "best_xs = X_train[y_train == 1][:10]\n",
    "target_labels = y_train[y_train == 1][:10]\n",
    "evaluate_model(model, best_xs, target_labels)"
   ]
  }
 ],
 "metadata": {
  "kernelspec": {
   "display_name": "mlg",
   "language": "python",
   "name": "python3"
  },
  "language_info": {
   "codemirror_mode": {
    "name": "ipython",
    "version": 3
   },
   "file_extension": ".py",
   "mimetype": "text/x-python",
   "name": "python",
   "nbconvert_exporter": "python",
   "pygments_lexer": "ipython3",
   "version": "3.10.14"
  }
 },
 "nbformat": 4,
 "nbformat_minor": 2
}
