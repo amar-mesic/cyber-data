{
 "cells": [
  {
   "cell_type": "markdown",
   "metadata": {},
   "source": [
    "# CS4035 - Cyber Data Analytics\n",
    "## Lab 4"
   ]
  },
  {
   "cell_type": "markdown",
   "metadata": {},
   "source": [
    "### Submit on brightspace (zip file with the name Group_xx.zip)\n",
    "This jupyter file completed with code, plots, figures and report for each question. Write the code or explanation below each sub question. For the explanations, include what you would normally include in the report for this lab assignment, for example data pre-processing, hypothesis tested, approach, results, etc.\n",
    "\n",
    "(if you used hard-to-get libraries) The libraries needed to run this file. \n",
    "\n",
    "Your peers should be able to use the readme section for instructions and be able to run this file. "
   ]
  },
  {
   "cell_type": "code",
   "execution_count": 1,
   "metadata": {},
   "outputs": [
    {
     "name": "stdout",
     "output_type": "stream",
     "text": [
      "Word count: 630\n"
     ]
    }
   ],
   "source": [
    "# If this cell does not work try running `pip install nbformat`\n",
    "\n",
    "\n",
    "# import io\n",
    "import nbformat\n",
    "\n",
    "nb = nbformat.read(\"Lab4.ipynb\", nbformat.NO_CONVERT)\n",
    "word_count = 0\n",
    "for cell in nb.cells:\n",
    "    if cell.cell_type == \"markdown\":\n",
    "        word_count += len(cell['source'].replace('#', '').lstrip().split(' '))\n",
    "\n",
    "print(\"Word count:\", word_count)"
   ]
  },
  {
   "cell_type": "markdown",
   "metadata": {},
   "source": [
    "## Group Number : 1"
   ]
  },
  {
   "cell_type": "markdown",
   "metadata": {},
   "source": [
    "## Student 1 \n",
    "### Name : Athanasios Georgoutsos\n",
    "### ID : 6015883"
   ]
  },
  {
   "cell_type": "markdown",
   "metadata": {},
   "source": [
    "## Student 2\n",
    "### Name : Amar Mesic\n",
    "### ID : 5106117"
   ]
  },
  {
   "cell_type": "markdown",
   "metadata": {},
   "source": [
    "## README\n",
    "\n",
    "Provide instructions - libraries used, location of the data file, etc. Keep it short. Remember your peers will not debug your code and should be able to reproduce the exact output you provide."
   ]
  },
  {
   "cell_type": "code",
   "execution_count": 2,
   "metadata": {},
   "outputs": [],
   "source": [
    "# libraries\n",
    "import numpy as np\n",
    "import matplotlib.pyplot as plt\n",
    "import seaborn as sns\n",
    "import pandas as pd\n",
    "from tqdm import tqdm\n",
    "\n",
    "from sklearn.model_selection import train_test_split\n",
    "from sklearn.linear_model import SGDClassifier\n",
    "from sklearn.preprocessing import StandardScaler\n",
    "from sklearn.pipeline import make_pipeline\n",
    "from sklearn.metrics import confusion_matrix, log_loss, roc_auc_score, roc_curve, auc\n",
    "\n",
    "# data paths\n",
    "data_X_path = \"cda_lab4_data/X.npy\"\n",
    "data_y_path = \"cda_lab4_data/y.npy\"\n",
    "feature_names_path = \"cda_lab4_data/feature_names.csv\""
   ]
  },
  {
   "cell_type": "markdown",
   "metadata": {},
   "source": [
    "## 1. Preparation (0 points)"
   ]
  },
  {
   "cell_type": "markdown",
   "metadata": {},
   "source": [
    "### 1a. Load the dataset and split it into a train and test set"
   ]
  },
  {
   "cell_type": "code",
   "execution_count": 3,
   "metadata": {},
   "outputs": [
    {
     "name": "stdout",
     "output_type": "stream",
     "text": [
      "X dimensions:  (30396, 22761)\n",
      "y dimensions:  (30396,)\n",
      "Feature names:       0                               1\n",
      "0  NaN                    feature_name\n",
      "1  0.0        kernel32.dll:SetFileTime\n",
      "2  1.0    kernel32.dll:CompareFileTime\n",
      "3  2.0        kernel32.dll:SearchPathW\n",
      "4  3.0  kernel32.dll:GetShortPathNameW\n"
     ]
    }
   ],
   "source": [
    "# load dataset\n",
    "X = np.load(data_X_path)\n",
    "print(\"X dimensions: \", X.shape)\n",
    "y = np.load(data_y_path)\n",
    "print(\"y dimensions: \", y.shape)\n",
    "\n",
    "# load feature names\n",
    "feature_names = pd.read_csv(feature_names_path, header=None)\n",
    "print(\"Feature names: \", feature_names.head())"
   ]
  },
  {
   "cell_type": "code",
   "execution_count": 4,
   "metadata": {},
   "outputs": [
    {
     "name": "stdout",
     "output_type": "stream",
     "text": [
      "Train size:  24316\n",
      "Train malwares:  12168\n",
      "\n",
      "Test size:  6080\n",
      "Test malwares:  3042\n"
     ]
    }
   ],
   "source": [
    "# split data into train and test set\n",
    "X_train, X_test, y_train, y_test = train_test_split(X, y, test_size=0.2, random_state=42, stratify=y)\n",
    "\n",
    "print(\"Train size: \", len(y_train))\n",
    "print(\"Train malwares: \", np.sum(y_train == 1))\n",
    "print()\n",
    "print(\"Test size: \", len(y_test))\n",
    "print(\"Test malwares: \", np.sum(y_test == 1))"
   ]
  },
  {
   "cell_type": "code",
   "execution_count": 5,
   "metadata": {},
   "outputs": [
    {
     "name": "stdout",
     "output_type": "stream",
     "text": [
      "Train accuracy:  0.9201348906070077\n",
      "Test accuracy:  0.9159539473684211\n",
      "True negatives:  2945  - False positives:  93  - False negatives:  418  - True positives:  2624\n",
      "Precision:  0.9657710710342289  - Recall: 0.8625904010519395  - F1 score:  0.9112693175898593\n",
      "ROC AUC score:  0.9802612016366004\n"
     ]
    },
    {
     "data": {
      "image/png": "[encoded data removed]",
      "text/plain": [
       "<Figure size 640x480 with 2 Axes>"
      ]
     },
     "metadata": {},
     "output_type": "display_data"
    }
   ],
   "source": [
    "# NOTE: takes about 2 and a half minutes to run\n",
    "\n",
    "# setup a logistic regression model\n",
    "clf = SGDClassifier(loss=\"log_loss\", max_iter=1000, tol=1e-3)\n",
    "\n",
    "# train the model\n",
    "clf.fit(X_train, y_train)\n",
    "\n",
    "# evaluate the model\n",
    "train_score = clf.score(X_train, y_train)\n",
    "test_score = clf.score(X_test, y_test)\n",
    "\n",
    "print(\"Train accuracy: \", train_score)\n",
    "print(\"Test accuracy: \", test_score)\n",
    "\n",
    "# plot the confusion matrix\n",
    "y_pred = clf.predict(X_test)\n",
    "cm = confusion_matrix(y_test, y_pred)\n",
    "tn, fp, fn, tp = cm.ravel()\n",
    "\n",
    "print(\"True negatives: \", tn, \" - False positives: \", fp, \" - False negatives: \", fn, \" - True positives: \", tp)\n",
    "\n",
    "# print F1-score\n",
    "precision = tp / (tp + fp)\n",
    "recall = tp / (tp + fn)\n",
    "f1 = 2 * (precision * recall) / (precision + recall)\n",
    "print(\"Precision: \", precision,\" - Recall:\", recall, \" - F1 score: \", f1)\n",
    "\n",
    "# print roc auc score\n",
    "roc = roc_auc_score(y_test, clf.predict_proba(X_test)[:, 1])\n",
    "print(\"ROC AUC score: \", roc)\n",
    "\n",
    "sns.heatmap(cm, annot=True)\n",
    "plt.show()"
   ]
  },
  {
   "cell_type": "markdown",
   "metadata": {},
   "source": [
    "### 1b. Initial Analysis"
   ]
  },
  {
   "cell_type": "markdown",
   "metadata": {},
   "source": [
    "We begin by loading the AdvML malware dataset. It contains more than 30k sample windows executables, with binary features about the imports they include. We split them, in a stratified manner, in **train and test (80-20)** and, then, we train a SGD classifier with logistic regression loss on the former. The performance of the trained classifier on the test data is very good, achieving **a test accuracy of 91.84%** and, overall, making performing well in all our metrics."
   ]
  },
  {
   "cell_type": "markdown",
   "metadata": {},
   "source": [
    "## 2. Attacking linear models (5 Points)"
   ]
  },
  {
   "cell_type": "markdown",
   "metadata": {},
   "source": [
    "### 2a. Implementing useless import attacks\n"
   ]
  },
  {
   "cell_type": "code",
   "execution_count": 6,
   "metadata": {},
   "outputs": [
    {
     "name": "stdout",
     "output_type": "stream",
     "text": [
      "Malware dot product:  [3.38803478]\n",
      "Benign dot product:  [-9.61253473]\n"
     ]
    }
   ],
   "source": [
    "# experiment with coefficients\n",
    "\n",
    "# get model's coefficients\n",
    "coefficients = clf.coef_\n",
    "\n",
    "# get two rows from train set\n",
    "malware_row = X_train[y_train == 1][0]\n",
    "benign_row = X_train[y_train == 0][0]\n",
    "\n",
    "# calculate dot product with coefficients\n",
    "malware_dot = malware_row.dot(coefficients.T)\n",
    "benign_dot = benign_row.dot(coefficients.T)\n",
    "\n",
    "# print the results\n",
    "print(\"Malware dot product: \", malware_dot)\n",
    "print(\"Benign dot product: \", benign_dot)"
   ]
  },
  {
   "cell_type": "code",
   "execution_count": 7,
   "metadata": {},
   "outputs": [],
   "source": [
    "def evade(sample, coef):\n",
    "\n",
    "    best_x = sample\n",
    "    k = 8\n",
    "\n",
    "    while k > 0.5:\n",
    "        \n",
    "        # find most negative coefficients - leading to benign\n",
    "        most_negative = np.argsort(coef)[0][:int(k)]\n",
    "\n",
    "        # modify the sample\n",
    "        x_mod = best_x.copy()\n",
    "        # print(x_mod[most_negative])\n",
    "        x_mod[most_negative] = 1\n",
    "\n",
    "        # compute loss\n",
    "        prev_best_loss = -np.dot(coef, best_x)\n",
    "        new_loss = -np.dot(coef, x_mod)\n",
    "\n",
    "        # print(prev_best_loss, new_loss)\n",
    "\n",
    "        if new_loss > prev_best_loss:\n",
    "            best_x = x_mod\n",
    "            k *= 2\n",
    "        else:\n",
    "            k /= 2\n",
    "\n",
    "    return best_x\n",
    "        "
   ]
  },
  {
   "cell_type": "code",
   "execution_count": 9,
   "metadata": {},
   "outputs": [
    {
     "name": "stdout",
     "output_type": "stream",
     "text": [
      "Best x prediction:  [0.00438806 0.99561194]\n",
      "Evade prediction:  [1.00000000e+000 1.35016954e-147]\n"
     ]
    }
   ],
   "source": [
    "# Example for a malware sample from the train set\n",
    "\n",
    "# get model's coefficients\n",
    "coefficients = clf.coef_\n",
    "\n",
    "# get a malware row from test set\n",
    "malware_row = X_train[y_train == 1][0]\n",
    "\n",
    "# predict with clf\n",
    "# get prediction for best_x\n",
    "best_x_pred = clf.predict_proba([malware_row])[0]\n",
    "print(\"Best x prediction: \", best_x_pred)\n",
    "\n",
    "best_x = evade(malware_row, coefficients)\n",
    "best_x_pred = clf.predict_proba([best_x])[0]\n",
    "print(\"Evade prediction: \", best_x_pred)"
   ]
  },
  {
   "cell_type": "code",
   "execution_count": 10,
   "metadata": {},
   "outputs": [
    {
     "name": "stdout",
     "output_type": "stream",
     "text": [
      "Test accuracy:  0.484375\n",
      "True negatives:  2945  - False positives:  93  - False negatives:  3042  - True positives:  0\n",
      "Precision:  0.0  - Recall: 0.0  - F1 score:  nan\n"
     ]
    },
    {
     "name": "stderr",
     "output_type": "stream",
     "text": [
      "/var/folders/gn/8cmn0qdj1mx7g0mxnt5q722h0000gp/T/ipykernel_67674/3163729946.py:24: RuntimeWarning: invalid value encountered in scalar divide\n",
      "  f1 = 2 * (precision * recall) / (precision + recall)\n"
     ]
    },
    {
     "name": "stdout",
     "output_type": "stream",
     "text": [
      "ROC AUC score:  0.9802612016366004\n"
     ]
    },
    {
     "data": {
      "image/png": "[encoded data removed]",
      "text/plain": [
       "<Figure size 640x480 with 2 Axes>"
      ]
     },
     "metadata": {},
     "output_type": "display_data"
    }
   ],
   "source": [
    "# NOTE: takes about 2 minutes to run\n",
    "\n",
    "evade_rows = X_test.copy()\n",
    "\n",
    "for i in range(len(evade_rows)):\n",
    "    if y_test[i] == 1:\n",
    "        evade_rows[i] = evade(evade_rows[i], coefficients)\n",
    "\n",
    "test_score = clf.score(evade_rows, y_test)\n",
    "\n",
    "# print(\"Train score: \", train_score)\n",
    "print(\"Test accuracy: \", test_score)\n",
    "\n",
    "# plot the confusion matrix\n",
    "y_pred = clf.predict(evade_rows)\n",
    "cm = confusion_matrix(y_test, y_pred)\n",
    "tn, fp, fn, tp = cm.ravel()\n",
    "\n",
    "print(\"True negatives: \", tn, \" - False positives: \", fp, \" - False negatives: \", fn, \" - True positives: \", tp)\n",
    "\n",
    "# print F1-score\n",
    "precision = tp / (tp + fp)\n",
    "recall = tp / (tp + fn)\n",
    "f1 = 2 * (precision * recall) / (precision + recall)\n",
    "print(\"Precision: \", precision,\" - Recall:\", recall, \" - F1 score: \", f1)\n",
    "\n",
    "# print roc auc score\n",
    "roc = roc_auc_score(y_test, clf.predict_proba(X_test)[:, 1])\n",
    "print(\"ROC AUC score: \", roc)\n",
    "\n",
    "sns.heatmap(cm, annot=True)\n",
    "plt.show()"
   ]
  },
  {
   "cell_type": "markdown",
   "metadata": {},
   "source": [
    "### 2b. Analysis and answers to the questions"
   ]
  },
  {
   "cell_type": "markdown",
   "metadata": {},
   "source": [
    "We implemented the evade function by adapting the GRAMS method, from the provided paper. We noticed that the dot product of a malware row with the model coefficients was positive, while for the benign row was negative. So, in the evade function, our criterion for keep injecting imports to malware rows is that the dot product with the coefficient becomes more negative (worse for the model). We use the model trained earlier on the test set, after using evade. **Now, the model is unable to predict any malware rows (0!!!)**. The new test accuracy is 48.37%, while most of the other metrics drop as well. This means that **the model is not robust**, since a malware author, that knows how the coefficients of our model work, could easily modify his malware with targeted imports and remain undetected."
   ]
  },
  {
   "cell_type": "markdown",
   "metadata": {},
   "source": [
    "## 3. Improving robustness by hardening (5 Points)"
   ]
  },
  {
   "cell_type": "markdown",
   "metadata": {},
   "source": [
    "### 3a. Implementing hardening"
   ]
  },
  {
   "cell_type": "code",
   "execution_count": 125,
   "metadata": {},
   "outputs": [],
   "source": [
    "def robust_training(X_train, y_train, clf, n_iter=100, batch_size=1000, one_pass=False, es_flag = False, es_tol = 10, evade=evade):\n",
    "    \n",
    "    # create batches of train data\n",
    "    n_batches = len(y_train) // batch_size\n",
    "    X_batches = np.array_split(X_train, n_batches)\n",
    "    y_batches = np.array_split(y_train, n_batches)\n",
    "\n",
    "    cnt = 0\n",
    "    tol = 0\n",
    "\n",
    "    best_clf = clf\n",
    "    best_val_score = 0\n",
    "\n",
    "    if one_pass:\n",
    "        n_iter = n_batches\n",
    "\n",
    "    while cnt < n_iter and tol < es_tol:\n",
    "        \n",
    "        print(\"Iteration: \", cnt)\n",
    "       \n",
    "        idx = cnt % n_batches\n",
    "\n",
    "        if cnt == 0:\n",
    "            clf.fit(X_batches[idx], y_batches[idx])\n",
    "        \n",
    "        else:\n",
    "\n",
    "            batch_copy = X_batches[idx].copy()\n",
    "            batch_labels = y_batches[idx].copy()\n",
    "\n",
    "            coefficients = clf.coef_\n",
    "\n",
    "            # use evade function on batch\n",
    "            for j in range(len(batch_copy)):\n",
    "                if batch_labels[j] == 1:\n",
    "                    batch_copy[j] = evade(batch_copy[j], coefficients)\n",
    "            \n",
    "            clf.partial_fit(batch_copy, batch_labels)\n",
    "\n",
    "        # check model performance on train set, with evade\n",
    "        batch_copy = X_batches[idx].copy()\n",
    "        batch_labels = y_batches[idx].copy()\n",
    "\n",
    "        coefficients = clf.coef_\n",
    "\n",
    "        # use evade function on batch\n",
    "        for j in range(len(batch_copy)):\n",
    "            if batch_labels[j] == 1:\n",
    "                batch_copy[j] = evade(batch_copy[j], coefficients)\n",
    "\n",
    "        # we consider this our validation score, for early stopping\n",
    "        val_score = clf.score(batch_copy, batch_labels)\n",
    "        print(\"Train accuracy with evade: \", val_score)\n",
    "        \n",
    "        y_pred = clf.predict(batch_copy)\n",
    "        cm = confusion_matrix(batch_labels, y_pred)\n",
    "        tn, fp, fn, tp = cm.ravel()\n",
    "\n",
    "        print(\"True negatives: \", tn, \" - False positives: \", fp, \" - False negatives: \", fn, \" - True positives: \", tp)\n",
    "\n",
    "        if val_score > best_val_score:\n",
    "            best_clf = clf\n",
    "            best_val_score = val_score\n",
    "            tol = 0\n",
    "        elif es_flag:\n",
    "            tol += 1\n",
    "\n",
    "        cnt += 1\n",
    "\n",
    "    return best_clf"
   ]
  },
  {
   "cell_type": "code",
   "execution_count": 13,
   "metadata": {},
   "outputs": [
    {
     "name": "stdout",
     "output_type": "stream",
     "text": [
      "Iteration:  0\n",
      "Train accuracy with evade:  0.49506903353057197\n",
      "True negatives:  502  - False positives:  6  - False negatives:  506  - True positives:  0\n",
      "Iteration:  1\n",
      "Train accuracy with evade:  0.4921104536489152\n",
      "True negatives:  499  - False positives:  0  - False negatives:  515  - True positives:  0\n",
      "Iteration:  2\n",
      "Train accuracy with evade:  0.5157790927021696\n",
      "True negatives:  523  - False positives:  2  - False negatives:  489  - True positives:  0\n",
      "Iteration:  3\n",
      "Train accuracy with evade:  0.47731755424063116\n",
      "True negatives:  484  - False positives:  2  - False negatives:  528  - True positives:  0\n",
      "Iteration:  4\n",
      "Train accuracy with evade:  0.5123395853899309\n",
      "True negatives:  519  - False positives:  0  - False negatives:  494  - True positives:  0\n",
      "Iteration:  5\n",
      "Train accuracy with evade:  0.510365251727542\n",
      "True negatives:  516  - False positives:  0  - False negatives:  496  - True positives:  1\n",
      "Iteration:  6\n",
      "Train accuracy with evade:  0.5222112537018756\n",
      "True negatives:  522  - False positives:  1  - False negatives:  483  - True positives:  7\n",
      "Iteration:  7\n",
      "Train accuracy with evade:  0.5143139190523198\n",
      "True negatives:  521  - False positives:  0  - False negatives:  492  - True positives:  0\n",
      "Iteration:  8\n",
      "Train accuracy with evade:  0.5044422507403751\n",
      "True negatives:  511  - False positives:  2  - False negatives:  500  - True positives:  0\n",
      "Iteration:  9\n",
      "Train accuracy with evade:  0.4866732477788746\n",
      "True negatives:  485  - False positives:  11  - False negatives:  509  - True positives:  8\n",
      "Iteration:  10\n",
      "Train accuracy with evade:  0.5192497532082923\n",
      "True negatives:  524  - False positives:  1  - False negatives:  486  - True positives:  2\n",
      "Iteration:  11\n",
      "Train accuracy with evade:  0.5202369200394866\n",
      "True negatives:  508  - False positives:  2  - False negatives:  484  - True positives:  19\n",
      "Iteration:  12\n",
      "Train accuracy with evade:  0.49259624876604147\n",
      "True negatives:  490  - False positives:  8  - False negatives:  506  - True positives:  9\n",
      "Iteration:  13\n",
      "Train accuracy with evade:  0.491609081934847\n",
      "True negatives:  486  - False positives:  12  - False negatives:  503  - True positives:  12\n",
      "Iteration:  14\n",
      "Train accuracy with evade:  0.5153010858835143\n",
      "True negatives:  507  - False positives:  2  - False negatives:  489  - True positives:  15\n",
      "Iteration:  15\n",
      "Train accuracy with evade:  0.4817374136229023\n",
      "True negatives:  480  - False positives:  27  - False negatives:  498  - True positives:  8\n",
      "Iteration:  16\n",
      "Train accuracy with evade:  0.4797630799605133\n",
      "True negatives:  469  - False positives:  24  - False negatives:  503  - True positives:  17\n",
      "Iteration:  17\n",
      "Train accuracy with evade:  0.39486673247778875\n",
      "True negatives:  382  - False positives:  125  - False negatives:  488  - True positives:  18\n",
      "Iteration:  18\n",
      "Train accuracy with evade:  0.49259624876604147\n",
      "True negatives:  493  - False positives:  0  - False negatives:  514  - True positives:  6\n",
      "Iteration:  19\n",
      "Train accuracy with evade:  0.49555774925962487\n",
      "True negatives:  490  - False positives:  1  - False negatives:  510  - True positives:  12\n",
      "Iteration:  20\n",
      "Train accuracy with evade:  0.5004935834155972\n",
      "True negatives:  500  - False positives:  2  - False negatives:  504  - True positives:  7\n",
      "Iteration:  21\n",
      "Train accuracy with evade:  0.4846989141164857\n",
      "True negatives:  487  - False positives:  26  - False negatives:  496  - True positives:  4\n",
      "Iteration:  22\n",
      "Train accuracy with evade:  0.49555774925962487\n",
      "True negatives:  487  - False positives:  2  - False negatives:  509  - True positives:  15\n",
      "Iteration:  23\n",
      "Train accuracy with evade:  0.5301085883514314\n",
      "True negatives:  499  - False positives:  8  - False negatives:  468  - True positives:  38\n"
     ]
    }
   ],
   "source": [
    "# NOTE: takes about 10 minutes to run\n",
    "# reduce the n_iter to 10 and disable early stopping for faster results\n",
    "\n",
    "clf = SGDClassifier(loss=\"log_loss\", tol=1e-3)\n",
    "\n",
    "clf = robust_training(X_train, y_train, clf, n_iter=10, batch_size=1000, one_pass=True)"
   ]
  },
  {
   "cell_type": "code",
   "execution_count": 14,
   "metadata": {},
   "outputs": [
    {
     "name": "stdout",
     "output_type": "stream",
     "text": [
      "Test accuracy:  0.5307565789473684\n",
      "True negatives:  2909  - False positives:  129  - False negatives:  2724  - True positives:  318\n",
      "Precision:  0.7114093959731543  - Recall: 0.10453648915187377  - F1 score:  0.1822871883061049\n",
      "ROC AUC score:  0.826028750878095\n"
     ]
    },
    {
     "data": {
      "image/png": "[encoded data removed]",
      "text/plain": [
       "<Figure size 640x480 with 2 Axes>"
      ]
     },
     "metadata": {},
     "output_type": "display_data"
    }
   ],
   "source": [
    "# check results without using evade\n",
    "\n",
    "# evaluate the model\n",
    "test_score = clf.score(X_test, y_test)\n",
    "\n",
    "print(\"Test accuracy: \", test_score)\n",
    "\n",
    "# plot the confusion matrix\n",
    "y_pred = clf.predict(X_test)\n",
    "cm = confusion_matrix(y_test, y_pred)\n",
    "tn, fp, fn, tp = cm.ravel()\n",
    "\n",
    "print(\"True negatives: \", tn, \" - False positives: \", fp, \" - False negatives: \", fn, \" - True positives: \", tp)\n",
    "\n",
    "# print F1-score\n",
    "precision = tp / (tp + fp)\n",
    "recall = tp / (tp + fn)\n",
    "f1 = 2 * (precision * recall) / (precision + recall)\n",
    "print(\"Precision: \", precision,\" - Recall:\", recall, \" - F1 score: \", f1)\n",
    "\n",
    "# print roc auc score\n",
    "roc = roc_auc_score(y_test, clf.predict_proba(X_test)[:, 1])\n",
    "print(\"ROC AUC score: \", roc)\n",
    "\n",
    "sns.heatmap(cm, annot=True)\n",
    "plt.show()"
   ]
  },
  {
   "cell_type": "code",
   "execution_count": 15,
   "metadata": {},
   "outputs": [
    {
     "name": "stdout",
     "output_type": "stream",
     "text": [
      "Evade Test accuracy:  0.5032894736842105\n",
      "True negatives:  2909  - False positives:  129  - False negatives:  2891  - True positives:  151\n",
      "Precision:  0.5392857142857143  - Recall: 0.04963839579224195  - F1 score:  0.09090909090909091\n",
      "ROC AUC score:  0.826028750878095\n"
     ]
    },
    {
     "data": {
      "image/png": "[encoded data removed]",
      "text/plain": [
       "<Figure size 640x480 with 2 Axes>"
      ]
     },
     "metadata": {},
     "output_type": "display_data"
    }
   ],
   "source": [
    "# NOTE: takes about 1 minute to run\n",
    "\n",
    "coefficients = clf.coef_\n",
    "\n",
    "evade_rows = X_test.copy()\n",
    "\n",
    "for i in range(len(evade_rows)):\n",
    "    if y_test[i] == 1:\n",
    "        evade_rows[i] = evade(evade_rows[i], coefficients)\n",
    "\n",
    "test_score = clf.score(evade_rows, y_test)\n",
    "\n",
    "# print(\"Train score: \", train_score)\n",
    "print(\"Evade Test accuracy: \", test_score)\n",
    "\n",
    "# plot the confusion matrix\n",
    "y_pred = clf.predict(evade_rows)\n",
    "cm = confusion_matrix(y_test, y_pred)\n",
    "tn, fp, fn, tp = cm.ravel()\n",
    "\n",
    "print(\"True negatives: \", tn, \" - False positives: \", fp, \" - False negatives: \", fn, \" - True positives: \", tp)\n",
    "\n",
    "# print F1-score\n",
    "precision = tp / (tp + fp)\n",
    "recall = tp / (tp + fn)\n",
    "f1 = 2 * (precision * recall) / (precision + recall)\n",
    "print(\"Precision: \", precision,\" - Recall:\", recall, \" - F1 score: \", f1)\n",
    "\n",
    "# print roc auc score\n",
    "roc = roc_auc_score(y_test, clf.predict_proba(X_test)[:, 1])\n",
    "print(\"ROC AUC score: \", roc)\n",
    "\n",
    "sns.heatmap(cm, annot=True)\n",
    "plt.show()"
   ]
  },
  {
   "cell_type": "markdown",
   "metadata": {},
   "source": [
    "### 3b. Analysis and answers to the questions"
   ]
  },
  {
   "cell_type": "markdown",
   "metadata": {},
   "source": [
    "We implemented robust training by creating train batches and applying evade to each of them before using them on the model. We also added early stopping, with respect to the accuracy of the model on the train batches, after re-applying evade (new coefficients because of training). This is what we care about, as our aim is to train a more robust model. Then, we evaluate it on the test data, with and without evade. \n",
    "\n",
    "We see a slight improvement on the test data with evade, as **the accuracy rises to 50.94% and there are 69 true positives**. However, we also see that **the performance on the original test degrades significantly**, with an accuracy of 51.85%. So, by robust training with evade, the model becomes more robust to adjusted malware, however it is not so effective in distinguishing between the original benign and malware windows exe files."
   ]
  },
  {
   "cell_type": "markdown",
   "metadata": {},
   "source": [
    "## 4. Training non-negative linear models (5 Points)"
   ]
  },
  {
   "cell_type": "code",
   "execution_count": 46,
   "metadata": {},
   "outputs": [
    {
     "data": {
      "text/html": [
       "<style>#sk-container-id-1 {\n",
       "  /* Definition of color scheme common for light and dark mode */\n",
       "  --sklearn-color-text: black;\n",
       "  --sklearn-color-line: gray;\n",
       "  /* Definition of color scheme for unfitted estimators */\n",
       "  --sklearn-color-unfitted-level-0: #fff5e6;\n",
       "  --sklearn-color-unfitted-level-1: #f6e4d2;\n",
       "  --sklearn-color-unfitted-level-2: #ffe0b3;\n",
       "  --sklearn-color-unfitted-level-3: chocolate;\n",
       "  /* Definition of color scheme for fitted estimators */\n",
       "  --sklearn-color-fitted-level-0: #f0f8ff;\n",
       "  --sklearn-color-fitted-level-1: #d4ebff;\n",
       "  --sklearn-color-fitted-level-2: #b3dbfd;\n",
       "  --sklearn-color-fitted-level-3: cornflowerblue;\n",
       "\n",
       "  /* Specific color for light theme */\n",
       "  --sklearn-color-text-on-default-background: var(--sg-text-color, var(--theme-code-foreground, var(--jp-content-font-color1, black)));\n",
       "  --sklearn-color-background: var(--sg-background-color, var(--theme-background, var(--jp-layout-color0, white)));\n",
       "  --sklearn-color-border-box: var(--sg-text-color, var(--theme-code-foreground, var(--jp-content-font-color1, black)));\n",
       "  --sklearn-color-icon: #696969;\n",
       "\n",
       "  @media (prefers-color-scheme: dark) {\n",
       "    /* Redefinition of color scheme for dark theme */\n",
       "    --sklearn-color-text-on-default-background: var(--sg-text-color, var(--theme-code-foreground, var(--jp-content-font-color1, white)));\n",
       "    --sklearn-color-background: var(--sg-background-color, var(--theme-background, var(--jp-layout-color0, #111)));\n",
       "    --sklearn-color-border-box: var(--sg-text-color, var(--theme-code-foreground, var(--jp-content-font-color1, white)));\n",
       "    --sklearn-color-icon: #878787;\n",
       "  }\n",
       "}\n",
       "\n",
       "#sk-container-id-1 {\n",
       "  color: var(--sklearn-color-text);\n",
       "}\n",
       "\n",
       "#sk-container-id-1 pre {\n",
       "  padding: 0;\n",
       "}\n",
       "\n",
       "#sk-container-id-1 input.sk-hidden--visually {\n",
       "  border: 0;\n",
       "  clip: rect(1px 1px 1px 1px);\n",
       "  clip: rect(1px, 1px, 1px, 1px);\n",
       "  height: 1px;\n",
       "  margin: -1px;\n",
       "  overflow: hidden;\n",
       "  padding: 0;\n",
       "  position: absolute;\n",
       "  width: 1px;\n",
       "}\n",
       "\n",
       "#sk-container-id-1 div.sk-dashed-wrapped {\n",
       "  border: 1px dashed var(--sklearn-color-line);\n",
       "  margin: 0 0.4em 0.5em 0.4em;\n",
       "  box-sizing: border-box;\n",
       "  padding-bottom: 0.4em;\n",
       "  background-color: var(--sklearn-color-background);\n",
       "}\n",
       "\n",
       "#sk-container-id-1 div.sk-container {\n",
       "  /* jupyter's `normalize.less` sets `[hidden] { display: none; }`\n",
       "     but bootstrap.min.css set `[hidden] { display: none !important; }`\n",
       "     so we also need the `!important` here to be able to override the\n",
       "     default hidden behavior on the sphinx rendered scikit-learn.org.\n",
       "     See: https://github.com/scikit-learn/scikit-learn/issues/21755 */\n",
       "  display: inline-block !important;\n",
       "  position: relative;\n",
       "}\n",
       "\n",
       "#sk-container-id-1 div.sk-text-repr-fallback {\n",
       "  display: none;\n",
       "}\n",
       "\n",
       "div.sk-parallel-item,\n",
       "div.sk-serial,\n",
       "div.sk-item {\n",
       "  /* draw centered vertical line to link estimators */\n",
       "  background-image: linear-gradient(var(--sklearn-color-text-on-default-background), var(--sklearn-color-text-on-default-background));\n",
       "  background-size: 2px 100%;\n",
       "  background-repeat: no-repeat;\n",
       "  background-position: center center;\n",
       "}\n",
       "\n",
       "/* Parallel-specific style estimator block */\n",
       "\n",
       "#sk-container-id-1 div.sk-parallel-item::after {\n",
       "  content: \"\";\n",
       "  width: 100%;\n",
       "  border-bottom: 2px solid var(--sklearn-color-text-on-default-background);\n",
       "  flex-grow: 1;\n",
       "}\n",
       "\n",
       "#sk-container-id-1 div.sk-parallel {\n",
       "  display: flex;\n",
       "  align-items: stretch;\n",
       "  justify-content: center;\n",
       "  background-color: var(--sklearn-color-background);\n",
       "  position: relative;\n",
       "}\n",
       "\n",
       "#sk-container-id-1 div.sk-parallel-item {\n",
       "  display: flex;\n",
       "  flex-direction: column;\n",
       "}\n",
       "\n",
       "#sk-container-id-1 div.sk-parallel-item:first-child::after {\n",
       "  align-self: flex-end;\n",
       "  width: 50%;\n",
       "}\n",
       "\n",
       "#sk-container-id-1 div.sk-parallel-item:last-child::after {\n",
       "  align-self: flex-start;\n",
       "  width: 50%;\n",
       "}\n",
       "\n",
       "#sk-container-id-1 div.sk-parallel-item:only-child::after {\n",
       "  width: 0;\n",
       "}\n",
       "\n",
       "/* Serial-specific style estimator block */\n",
       "\n",
       "#sk-container-id-1 div.sk-serial {\n",
       "  display: flex;\n",
       "  flex-direction: column;\n",
       "  align-items: center;\n",
       "  background-color: var(--sklearn-color-background);\n",
       "  padding-right: 1em;\n",
       "  padding-left: 1em;\n",
       "}\n",
       "\n",
       "\n",
       "/* Toggleable style: style used for estimator/Pipeline/ColumnTransformer box that is\n",
       "clickable and can be expanded/collapsed.\n",
       "- Pipeline and ColumnTransformer use this feature and define the default style\n",
       "- Estimators will overwrite some part of the style using the `sk-estimator` class\n",
       "*/\n",
       "\n",
       "/* Pipeline and ColumnTransformer style (default) */\n",
       "\n",
       "#sk-container-id-1 div.sk-toggleable {\n",
       "  /* Default theme specific background. It is overwritten whether we have a\n",
       "  specific estimator or a Pipeline/ColumnTransformer */\n",
       "  background-color: var(--sklearn-color-background);\n",
       "}\n",
       "\n",
       "/* Toggleable label */\n",
       "#sk-container-id-1 label.sk-toggleable__label {\n",
       "  cursor: pointer;\n",
       "  display: block;\n",
       "  width: 100%;\n",
       "  margin-bottom: 0;\n",
       "  padding: 0.5em;\n",
       "  box-sizing: border-box;\n",
       "  text-align: center;\n",
       "}\n",
       "\n",
       "#sk-container-id-1 label.sk-toggleable__label-arrow:before {\n",
       "  /* Arrow on the left of the label */\n",
       "  content: \"▸\";\n",
       "  float: left;\n",
       "  margin-right: 0.25em;\n",
       "  color: var(--sklearn-color-icon);\n",
       "}\n",
       "\n",
       "#sk-container-id-1 label.sk-toggleable__label-arrow:hover:before {\n",
       "  color: var(--sklearn-color-text);\n",
       "}\n",
       "\n",
       "/* Toggleable content - dropdown */\n",
       "\n",
       "#sk-container-id-1 div.sk-toggleable__content {\n",
       "  max-height: 0;\n",
       "  max-width: 0;\n",
       "  overflow: hidden;\n",
       "  text-align: left;\n",
       "  /* unfitted */\n",
       "  background-color: var(--sklearn-color-unfitted-level-0);\n",
       "}\n",
       "\n",
       "#sk-container-id-1 div.sk-toggleable__content.fitted {\n",
       "  /* fitted */\n",
       "  background-color: var(--sklearn-color-fitted-level-0);\n",
       "}\n",
       "\n",
       "#sk-container-id-1 div.sk-toggleable__content pre {\n",
       "  margin: 0.2em;\n",
       "  border-radius: 0.25em;\n",
       "  color: var(--sklearn-color-text);\n",
       "  /* unfitted */\n",
       "  background-color: var(--sklearn-color-unfitted-level-0);\n",
       "}\n",
       "\n",
       "#sk-container-id-1 div.sk-toggleable__content.fitted pre {\n",
       "  /* unfitted */\n",
       "  background-color: var(--sklearn-color-fitted-level-0);\n",
       "}\n",
       "\n",
       "#sk-container-id-1 input.sk-toggleable__control:checked~div.sk-toggleable__content {\n",
       "  /* Expand drop-down */\n",
       "  max-height: 200px;\n",
       "  max-width: 100%;\n",
       "  overflow: auto;\n",
       "}\n",
       "\n",
       "#sk-container-id-1 input.sk-toggleable__control:checked~label.sk-toggleable__label-arrow:before {\n",
       "  content: \"▾\";\n",
       "}\n",
       "\n",
       "/* Pipeline/ColumnTransformer-specific style */\n",
       "\n",
       "#sk-container-id-1 div.sk-label input.sk-toggleable__control:checked~label.sk-toggleable__label {\n",
       "  color: var(--sklearn-color-text);\n",
       "  background-color: var(--sklearn-color-unfitted-level-2);\n",
       "}\n",
       "\n",
       "#sk-container-id-1 div.sk-label.fitted input.sk-toggleable__control:checked~label.sk-toggleable__label {\n",
       "  background-color: var(--sklearn-color-fitted-level-2);\n",
       "}\n",
       "\n",
       "/* Estimator-specific style */\n",
       "\n",
       "/* Colorize estimator box */\n",
       "#sk-container-id-1 div.sk-estimator input.sk-toggleable__control:checked~label.sk-toggleable__label {\n",
       "  /* unfitted */\n",
       "  background-color: var(--sklearn-color-unfitted-level-2);\n",
       "}\n",
       "\n",
       "#sk-container-id-1 div.sk-estimator.fitted input.sk-toggleable__control:checked~label.sk-toggleable__label {\n",
       "  /* fitted */\n",
       "  background-color: var(--sklearn-color-fitted-level-2);\n",
       "}\n",
       "\n",
       "#sk-container-id-1 div.sk-label label.sk-toggleable__label,\n",
       "#sk-container-id-1 div.sk-label label {\n",
       "  /* The background is the default theme color */\n",
       "  color: var(--sklearn-color-text-on-default-background);\n",
       "}\n",
       "\n",
       "/* On hover, darken the color of the background */\n",
       "#sk-container-id-1 div.sk-label:hover label.sk-toggleable__label {\n",
       "  color: var(--sklearn-color-text);\n",
       "  background-color: var(--sklearn-color-unfitted-level-2);\n",
       "}\n",
       "\n",
       "/* Label box, darken color on hover, fitted */\n",
       "#sk-container-id-1 div.sk-label.fitted:hover label.sk-toggleable__label.fitted {\n",
       "  color: var(--sklearn-color-text);\n",
       "  background-color: var(--sklearn-color-fitted-level-2);\n",
       "}\n",
       "\n",
       "/* Estimator label */\n",
       "\n",
       "#sk-container-id-1 div.sk-label label {\n",
       "  font-family: monospace;\n",
       "  font-weight: bold;\n",
       "  display: inline-block;\n",
       "  line-height: 1.2em;\n",
       "}\n",
       "\n",
       "#sk-container-id-1 div.sk-label-container {\n",
       "  text-align: center;\n",
       "}\n",
       "\n",
       "/* Estimator-specific */\n",
       "#sk-container-id-1 div.sk-estimator {\n",
       "  font-family: monospace;\n",
       "  border: 1px dotted var(--sklearn-color-border-box);\n",
       "  border-radius: 0.25em;\n",
       "  box-sizing: border-box;\n",
       "  margin-bottom: 0.5em;\n",
       "  /* unfitted */\n",
       "  background-color: var(--sklearn-color-unfitted-level-0);\n",
       "}\n",
       "\n",
       "#sk-container-id-1 div.sk-estimator.fitted {\n",
       "  /* fitted */\n",
       "  background-color: var(--sklearn-color-fitted-level-0);\n",
       "}\n",
       "\n",
       "/* on hover */\n",
       "#sk-container-id-1 div.sk-estimator:hover {\n",
       "  /* unfitted */\n",
       "  background-color: var(--sklearn-color-unfitted-level-2);\n",
       "}\n",
       "\n",
       "#sk-container-id-1 div.sk-estimator.fitted:hover {\n",
       "  /* fitted */\n",
       "  background-color: var(--sklearn-color-fitted-level-2);\n",
       "}\n",
       "\n",
       "/* Specification for estimator info (e.g. \"i\" and \"?\") */\n",
       "\n",
       "/* Common style for \"i\" and \"?\" */\n",
       "\n",
       ".sk-estimator-doc-link,\n",
       "a:link.sk-estimator-doc-link,\n",
       "a:visited.sk-estimator-doc-link {\n",
       "  float: right;\n",
       "  font-size: smaller;\n",
       "  line-height: 1em;\n",
       "  font-family: monospace;\n",
       "  background-color: var(--sklearn-color-background);\n",
       "  border-radius: 1em;\n",
       "  height: 1em;\n",
       "  width: 1em;\n",
       "  text-decoration: none !important;\n",
       "  margin-left: 1ex;\n",
       "  /* unfitted */\n",
       "  border: var(--sklearn-color-unfitted-level-1) 1pt solid;\n",
       "  color: var(--sklearn-color-unfitted-level-1);\n",
       "}\n",
       "\n",
       ".sk-estimator-doc-link.fitted,\n",
       "a:link.sk-estimator-doc-link.fitted,\n",
       "a:visited.sk-estimator-doc-link.fitted {\n",
       "  /* fitted */\n",
       "  border: var(--sklearn-color-fitted-level-1) 1pt solid;\n",
       "  color: var(--sklearn-color-fitted-level-1);\n",
       "}\n",
       "\n",
       "/* On hover */\n",
       "div.sk-estimator:hover .sk-estimator-doc-link:hover,\n",
       ".sk-estimator-doc-link:hover,\n",
       "div.sk-label-container:hover .sk-estimator-doc-link:hover,\n",
       ".sk-estimator-doc-link:hover {\n",
       "  /* unfitted */\n",
       "  background-color: var(--sklearn-color-unfitted-level-3);\n",
       "  color: var(--sklearn-color-background);\n",
       "  text-decoration: none;\n",
       "}\n",
       "\n",
       "div.sk-estimator.fitted:hover .sk-estimator-doc-link.fitted:hover,\n",
       ".sk-estimator-doc-link.fitted:hover,\n",
       "div.sk-label-container:hover .sk-estimator-doc-link.fitted:hover,\n",
       ".sk-estimator-doc-link.fitted:hover {\n",
       "  /* fitted */\n",
       "  background-color: var(--sklearn-color-fitted-level-3);\n",
       "  color: var(--sklearn-color-background);\n",
       "  text-decoration: none;\n",
       "}\n",
       "\n",
       "/* Span, style for the box shown on hovering the info icon */\n",
       ".sk-estimator-doc-link span {\n",
       "  display: none;\n",
       "  z-index: 9999;\n",
       "  position: relative;\n",
       "  font-weight: normal;\n",
       "  right: .2ex;\n",
       "  padding: .5ex;\n",
       "  margin: .5ex;\n",
       "  width: min-content;\n",
       "  min-width: 20ex;\n",
       "  max-width: 50ex;\n",
       "  color: var(--sklearn-color-text);\n",
       "  box-shadow: 2pt 2pt 4pt #999;\n",
       "  /* unfitted */\n",
       "  background: var(--sklearn-color-unfitted-level-0);\n",
       "  border: .5pt solid var(--sklearn-color-unfitted-level-3);\n",
       "}\n",
       "\n",
       ".sk-estimator-doc-link.fitted span {\n",
       "  /* fitted */\n",
       "  background: var(--sklearn-color-fitted-level-0);\n",
       "  border: var(--sklearn-color-fitted-level-3);\n",
       "}\n",
       "\n",
       ".sk-estimator-doc-link:hover span {\n",
       "  display: block;\n",
       "}\n",
       "\n",
       "/* \"?\"-specific style due to the `<a>` HTML tag */\n",
       "\n",
       "#sk-container-id-1 a.estimator_doc_link {\n",
       "  float: right;\n",
       "  font-size: 1rem;\n",
       "  line-height: 1em;\n",
       "  font-family: monospace;\n",
       "  background-color: var(--sklearn-color-background);\n",
       "  border-radius: 1rem;\n",
       "  height: 1rem;\n",
       "  width: 1rem;\n",
       "  text-decoration: none;\n",
       "  /* unfitted */\n",
       "  color: var(--sklearn-color-unfitted-level-1);\n",
       "  border: var(--sklearn-color-unfitted-level-1) 1pt solid;\n",
       "}\n",
       "\n",
       "#sk-container-id-1 a.estimator_doc_link.fitted {\n",
       "  /* fitted */\n",
       "  border: var(--sklearn-color-fitted-level-1) 1pt solid;\n",
       "  color: var(--sklearn-color-fitted-level-1);\n",
       "}\n",
       "\n",
       "/* On hover */\n",
       "#sk-container-id-1 a.estimator_doc_link:hover {\n",
       "  /* unfitted */\n",
       "  background-color: var(--sklearn-color-unfitted-level-3);\n",
       "  color: var(--sklearn-color-background);\n",
       "  text-decoration: none;\n",
       "}\n",
       "\n",
       "#sk-container-id-1 a.estimator_doc_link.fitted:hover {\n",
       "  /* fitted */\n",
       "  background-color: var(--sklearn-color-fitted-level-3);\n",
       "}\n",
       "</style><div id=\"sk-container-id-1\" class=\"sk-top-container\"><div class=\"sk-text-repr-fallback\"><pre>SGDClassifier(loss=&#x27;log_loss&#x27;)</pre><b>In a Jupyter environment, please rerun this cell to show the HTML representation or trust the notebook. <br />On GitHub, the HTML representation is unable to render, please try loading this page with nbviewer.org.</b></div><div class=\"sk-container\" hidden><div class=\"sk-item\"><div class=\"sk-estimator fitted sk-toggleable\"><input class=\"sk-toggleable__control sk-hidden--visually\" id=\"sk-estimator-id-1\" type=\"checkbox\" checked><label for=\"sk-estimator-id-1\" class=\"sk-toggleable__label fitted sk-toggleable__label-arrow fitted\">&nbsp;&nbsp;SGDClassifier<a class=\"sk-estimator-doc-link fitted\" rel=\"noreferrer\" target=\"_blank\" href=\"https://scikit-learn.org/1.5/modules/generated/sklearn.linear_model.SGDClassifier.html\">?<span>Documentation for SGDClassifier</span></a><span class=\"sk-estimator-doc-link fitted\">i<span>Fitted</span></span></label><div class=\"sk-toggleable__content fitted\"><pre>SGDClassifier(loss=&#x27;log_loss&#x27;)</pre></div> </div></div></div></div>"
      ],
      "text/plain": [
       "SGDClassifier(loss='log_loss')"
      ]
     },
     "execution_count": 46,
     "metadata": {},
     "output_type": "execute_result"
    }
   ],
   "source": [
    "# setup a logistic regression model\n",
    "clf_clip = SGDClassifier(loss=\"log_loss\", max_iter=1000, tol=1e-3)\n",
    "\n",
    "# train the model\n",
    "clf_clip.fit(X_train, y_train)"
   ]
  },
  {
   "cell_type": "markdown",
   "metadata": {},
   "source": [
    "### 4a. Implement non-negative logistic regression using SGD"
   ]
  },
  {
   "cell_type": "code",
   "execution_count": 127,
   "metadata": {},
   "outputs": [],
   "source": [
    "def evade_clip(sample, coef):\n",
    "\n",
    "    best_x = sample\n",
    "    k = 8\n",
    "    orig_x = sample.copy()\n",
    "    counter = 0\n",
    "\n",
    "    while k > 0.5:\n",
    "        counter += 1\n",
    "\n",
    "        prev_best_loss = -np.dot(coef, best_x)\n",
    "\n",
    "        # find most negative coefficients - leading to benign\n",
    "        most_negative = np.argsort(coef)[0][:int(k)]\n",
    "        # print('most_negative indices: ', most_negative)\n",
    "        # print('most negative values: ', coef[0][most_negative])\n",
    "\n",
    "        # modify the sample\n",
    "        x_mod = best_x.copy()\n",
    "        x_mod[most_negative] = 1\n",
    "        \n",
    "        new_loss = -np.dot(coef, x_mod)\n",
    "        # print(prev_best_loss, new_loss)\n",
    "\n",
    "        # Clip coefficients to have values at least zero\n",
    "        coef = np.clip(coef, 0, None)\n",
    "\n",
    "        if new_loss > prev_best_loss:\n",
    "            \n",
    "            best_x = x_mod\n",
    "            k *= 2\n",
    "        else:\n",
    "            k /= 2\n",
    "\n",
    "    # print('counter: ', counter)\n",
    "    return best_x\n",
    "        "
   ]
  },
  {
   "cell_type": "code",
   "execution_count": 120,
   "metadata": {},
   "outputs": [
    {
     "name": "stdout",
     "output_type": "stream",
     "text": [
      "Best x prediction:  [4.04287892e-06 9.99995957e-01]\n",
      "malware_row:  (22761,)\n",
      "\n",
      "coef:  (1, 22761)\n",
      "coef pos:  (19390,)\n",
      "coef:  (1, 22761)\n",
      "coef pos:  (22761,)\n",
      "coef:  (1, 22761)\n",
      "coef pos:  (22761,)\n",
      "coef:  (1, 22761)\n",
      "coef pos:  (22761,)\n",
      "coef:  (1, 22761)\n",
      "coef pos:  (22761,)\n",
      "coef:  (1, 22761)\n",
      "coef pos:  (22761,)\n",
      "Evade prediction:  [9.99984582e-01 1.54179192e-05]\n"
     ]
    }
   ],
   "source": [
    "# Example for a malware sample from the train set\n",
    "\n",
    "# get model's coefficients\n",
    "coefficients = clf_clip.coef_\n",
    "\n",
    "# get a malware row from test set\n",
    "malware_row = X_train[y_train == 1][0]\n",
    "malware_row_label = y_train[0]\n",
    "\n",
    "# predict with clf\n",
    "# get prediction for best_x\n",
    "best_x_pred = clf_clip.predict_proba([malware_row])[0]\n",
    "print(\"Best x prediction: \", best_x_pred)\n",
    "\n",
    "# print('coefficients shape: ', coefficients.shape)\n",
    "# print('coefficients: ', coefficients[0, :10])\n",
    "print('malware_row: ', malware_row.shape)\n",
    "print()\n",
    "\n",
    "best_x = evade_clip(malware_row, coefficients)\n",
    "best_x_pred = clf_clip.predict_proba([best_x])[0]\n",
    "print(\"Evade prediction: \", best_x_pred)"
   ]
  },
  {
   "cell_type": "markdown",
   "metadata": {},
   "source": [
    "### Test Classifier performance before applying changes to test set"
   ]
  },
  {
   "cell_type": "code",
   "execution_count": 121,
   "metadata": {},
   "outputs": [
    {
     "name": "stdout",
     "output_type": "stream",
     "text": [
      "Normal Test accuracy:  0.8638157894736842\n",
      "True negatives:  3000  - False positives:  38  - False negatives:  790  - True positives:  2252\n",
      "Precision:  0.9834061135371179  - Recall: 0.740302432610125  - F1 score:  0.8447111777944487\n",
      "ROC AUC score:  0.941015112541167\n"
     ]
    },
    {
     "data": {
      "image/png": "[encoded data removed]",
      "text/plain": [
       "<Figure size 640x480 with 2 Axes>"
      ]
     },
     "metadata": {},
     "output_type": "display_data"
    }
   ],
   "source": [
    "# NOTE: takes about 1 minute to run\n",
    "\n",
    "coefficients = clf_clip.coef_\n",
    "\n",
    "evade_rows = X_test.copy()\n",
    "\n",
    "test_score = clf_clip.score(evade_rows, y_test)\n",
    "\n",
    "# print(\"Train score: \", train_score)\n",
    "print(\"Normal Test accuracy: \", test_score)\n",
    "\n",
    "# plot the confusion matrix\n",
    "y_pred = clf_clip.predict(evade_rows)\n",
    "cm = confusion_matrix(y_test, y_pred)\n",
    "tn, fp, fn, tp = cm.ravel()\n",
    "\n",
    "print(\"True negatives: \", tn, \" - False positives: \", fp, \" - False negatives: \", fn, \" - True positives: \", tp)\n",
    "\n",
    "# print F1-score\n",
    "precision = tp / (tp + fp)\n",
    "recall = tp / (tp + fn)\n",
    "f1 = 2 * (precision * recall) / (precision + recall)\n",
    "print(\"Precision: \", precision,\" - Recall:\", recall, \" - F1 score: \", f1)\n",
    "\n",
    "# print roc auc score\n",
    "roc = roc_auc_score(y_test, clf_clip.predict_proba(X_test)[:, 1])\n",
    "print(\"ROC AUC score: \", roc)\n",
    "\n",
    "sns.heatmap(cm, annot=True)\n",
    "plt.show()"
   ]
  },
  {
   "cell_type": "code",
   "execution_count": 122,
   "metadata": {},
   "outputs": [
    {
     "name": "stdout",
     "output_type": "stream",
     "text": [
      "Adverse Test accuracy:  0.49407894736842106\n",
      "True negatives:  3000  - False positives:  38  - False negatives:  3038  - True positives:  4\n",
      "Precision:  0.09523809523809523  - Recall: 0.0013149243918474688  - F1 score:  0.002594033722438392\n",
      "ROC AUC score:  0.941015112541167\n"
     ]
    },
    {
     "data": {
      "image/png": "[encoded data removed]",
      "text/plain": [
       "<Figure size 640x480 with 2 Axes>"
      ]
     },
     "metadata": {},
     "output_type": "display_data"
    }
   ],
   "source": [
    "# NOTE: takes about 1 minute to run\n",
    "\n",
    "coefficients = clf_clip.coef_\n",
    "\n",
    "evade_rows = X_test.copy()\n",
    "\n",
    "for i in range(len(evade_rows)):\n",
    "    if y_test[i] == 1:\n",
    "        evade_rows[i] = evade(evade_rows[i], coefficients)\n",
    "\n",
    "test_score = clf_clip.score(evade_rows, y_test)\n",
    "\n",
    "# print(\"Train score: \", train_score)\n",
    "print(\"Adverse Test accuracy: \", test_score)\n",
    "\n",
    "# plot the confusion matrix\n",
    "y_pred = clf_clip.predict(evade_rows)\n",
    "cm = confusion_matrix(y_test, y_pred)\n",
    "tn, fp, fn, tp = cm.ravel()\n",
    "\n",
    "print(\"True negatives: \", tn, \" - False positives: \", fp, \" - False negatives: \", fn, \" - True positives: \", tp)\n",
    "\n",
    "# print F1-score\n",
    "precision = tp / (tp + fp)\n",
    "recall = tp / (tp + fn)\n",
    "f1 = 2 * (precision * recall) / (precision + recall)\n",
    "print(\"Precision: \", precision,\" - Recall:\", recall, \" - F1 score: \", f1)\n",
    "\n",
    "# print roc auc score\n",
    "roc = roc_auc_score(y_test, clf_clip.predict_proba(X_test)[:, 1])\n",
    "print(\"ROC AUC score: \", roc)\n",
    "\n",
    "sns.heatmap(cm, annot=True)\n",
    "plt.show()"
   ]
  },
  {
   "cell_type": "markdown",
   "metadata": {},
   "source": [
    "### 4b. Analysis and answers to the questions."
   ]
  },
  {
   "cell_type": "code",
   "execution_count": 128,
   "metadata": {},
   "outputs": [
    {
     "name": "stdout",
     "output_type": "stream",
     "text": [
      "Iteration:  0\n",
      "Train accuracy with evade:  0.49506903353057197\n",
      "True negatives:  479  - False positives:  29  - False negatives:  483  - True positives:  23\n",
      "Iteration:  1\n",
      "Train accuracy with evade:  0.5029585798816568\n",
      "True negatives:  444  - False positives:  55  - False negatives:  449  - True positives:  66\n",
      "Iteration:  2\n",
      "Train accuracy with evade:  0.5414201183431953\n",
      "True negatives:  524  - False positives:  1  - False negatives:  464  - True positives:  25\n",
      "Iteration:  3\n",
      "Train accuracy with evade:  0.5226824457593688\n",
      "True negatives:  473  - False positives:  13  - False negatives:  471  - True positives:  57\n",
      "Iteration:  4\n",
      "Train accuracy with evade:  0.5547877591312932\n",
      "True negatives:  492  - False positives:  27  - False negatives:  424  - True positives:  70\n",
      "Iteration:  5\n",
      "Train accuracy with evade:  0.527147087857848\n",
      "True negatives:  508  - False positives:  8  - False negatives:  471  - True positives:  26\n",
      "Iteration:  6\n",
      "Train accuracy with evade:  0.4876604146100691\n",
      "True negatives:  460  - False positives:  63  - False negatives:  456  - True positives:  34\n",
      "Iteration:  7\n",
      "Train accuracy with evade:  0.5370187561697927\n",
      "True negatives:  503  - False positives:  18  - False negatives:  451  - True positives:  41\n",
      "Iteration:  8\n",
      "Train accuracy with evade:  0.5389930898321816\n",
      "True negatives:  508  - False positives:  5  - False negatives:  462  - True positives:  38\n",
      "Iteration:  9\n",
      "Train accuracy with evade:  0.5212240868706811\n",
      "True negatives:  474  - False positives:  22  - False negatives:  463  - True positives:  54\n",
      "Iteration:  10\n",
      "Train accuracy with evade:  0.5389930898321816\n",
      "True negatives:  513  - False positives:  12  - False negatives:  455  - True positives:  33\n",
      "Iteration:  11\n",
      "Train accuracy with evade:  0.5804540967423495\n",
      "True negatives:  502  - False positives:  8  - False negatives:  417  - True positives:  86\n",
      "Iteration:  12\n",
      "Train accuracy with evade:  0.48963474827245806\n",
      "True negatives:  483  - False positives:  15  - False negatives:  502  - True positives:  13\n",
      "Iteration:  13\n",
      "Train accuracy with evade:  0.5113524185587365\n",
      "True negatives:  492  - False positives:  6  - False negatives:  489  - True positives:  26\n",
      "Iteration:  14\n",
      "Train accuracy with evade:  0.5310957551826259\n",
      "True negatives:  508  - False positives:  1  - False negatives:  474  - True positives:  30\n",
      "Iteration:  15\n",
      "Train accuracy with evade:  0.5419545903257651\n",
      "True negatives:  503  - False positives:  4  - False negatives:  460  - True positives:  46\n",
      "Iteration:  16\n",
      "Train accuracy with evade:  0.5143139190523198\n",
      "True negatives:  449  - False positives:  44  - False negatives:  448  - True positives:  72\n",
      "Iteration:  17\n",
      "Train accuracy with evade:  0.5261599210266535\n",
      "True negatives:  501  - False positives:  6  - False negatives:  474  - True positives:  32\n",
      "Iteration:  18\n",
      "Train accuracy with evade:  0.6377097729516288\n",
      "True negatives:  482  - False positives:  11  - False negatives:  356  - True positives:  164\n",
      "Iteration:  19\n",
      "Train accuracy with evade:  0.5330700888450148\n",
      "True negatives:  485  - False positives:  6  - False negatives:  467  - True positives:  55\n",
      "Iteration:  20\n",
      "Train accuracy with evade:  0.5952615992102666\n",
      "True negatives:  484  - False positives:  18  - False negatives:  392  - True positives:  119\n",
      "Iteration:  21\n",
      "Train accuracy with evade:  0.5291214215202369\n",
      "True negatives:  503  - False positives:  10  - False negatives:  467  - True positives:  33\n",
      "Iteration:  22\n",
      "Train accuracy with evade:  0.5024679170779862\n",
      "True negatives:  487  - False positives:  2  - False negatives:  502  - True positives:  22\n",
      "Iteration:  23\n",
      "Train accuracy with evade:  0.6515301085883515\n",
      "True negatives:  393  - False positives:  114  - False negatives:  239  - True positives:  267\n"
     ]
    }
   ],
   "source": [
    "clf = robust_training(X_train, y_train, clf_clip, n_iter=10, batch_size=1000, one_pass=True, evade=evade_clip)"
   ]
  },
  {
   "cell_type": "markdown",
   "metadata": {},
   "source": [
    "## 5. Bonus: robust decision trees for fraud detection (5 Points)"
   ]
  },
  {
   "cell_type": "markdown",
   "metadata": {},
   "source": [
    "### 5a. Train and analyze a regular decision tree for fraud detection"
   ]
  },
  {
   "cell_type": "code",
   "execution_count": null,
   "metadata": {},
   "outputs": [],
   "source": []
  },
  {
   "cell_type": "markdown",
   "metadata": {},
   "source": []
  },
  {
   "cell_type": "markdown",
   "metadata": {},
   "source": [
    "### 5b. Train and analyze a robust decision tree (GROOT) for fraud detection"
   ]
  },
  {
   "cell_type": "code",
   "execution_count": null,
   "metadata": {},
   "outputs": [],
   "source": []
  },
  {
   "cell_type": "markdown",
   "metadata": {},
   "source": []
  },
  {
   "cell_type": "markdown",
   "metadata": {},
   "source": [
    "### 5c. Evaluate the robustness of the two models"
   ]
  },
  {
   "cell_type": "code",
   "execution_count": null,
   "metadata": {},
   "outputs": [],
   "source": []
  },
  {
   "cell_type": "markdown",
   "metadata": {},
   "source": [
    "## From Assignment Doc"
   ]
  },
  {
   "cell_type": "markdown",
   "metadata": {},
   "source": []
  }
 ],
 "metadata": {
  "kernelspec": {
   "display_name": "Python 3 (ipykernel)",
   "language": "python",
   "name": "python3"
  },
  "language_info": {
   "codemirror_mode": {
    "name": "ipython",
    "version": 3
   },
   "file_extension": ".py",
   "mimetype": "text/x-python",
   "name": "python",
   "nbconvert_exporter": "python",
   "pygments_lexer": "ipython3",
   "version": "3.12.2"
  }
 },
 "nbformat": 4,
 "nbformat_minor": 2
}
